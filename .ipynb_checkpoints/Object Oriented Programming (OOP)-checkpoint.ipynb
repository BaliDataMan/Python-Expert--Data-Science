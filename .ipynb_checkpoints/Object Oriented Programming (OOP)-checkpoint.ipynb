{
 "cells": [
  {
   "cell_type": "markdown",
   "metadata": {},
   "source": [
    "- Some **important points** to know about OOP:\n",
    "\n",
    "    - OOP treats data as a critical element.\n",
    "    - Emphasis is on data rather than procedure.\n",
    "    - Decomposition of the problem into simpler modules.\n",
    "    - Doesn’t allow data to freely flow in the entire system, ie localized control flow.\n",
    "    - Data is protected from external functions.\n",
    "\n",
    "- **Advantages** of OOPs –\n",
    "\n",
    "    - It models the real world very well.\n",
    "    - With OOP, programs are easy to understand and maintain.\n",
    "    - OOP offers code reusability. Already created classes can be reused without having to write them again.\n",
    "    - OOP facilitates the quick development of programs where parallel development of classes is possible.\n",
    "    - With OOP, programs are easier to test, manage and debug.\n",
    "\n",
    "\n",
    "- **Disadvantages** of OOPs –\n",
    "\n",
    "    - With OOP, classes sometimes tend be over-generalised.\n",
    "    - The relations among classes become superficial at times.\n",
    "    - The OOP design is tricky and requires appropriate knowledge. Also, one needs to do proper planning and design for OOP programming.\n",
    "    - To program with OOP, the programmer needs proper skills such as that of design, programming and thinking in terms of objects and classes etc."
   ]
  },
  {
   "cell_type": "code",
   "execution_count": 3,
   "metadata": {},
   "outputs": [
    {
     "name": "stdout",
     "output_type": "stream",
     "text": [
      "<class '__main__.Dog'>\n",
      "6\n"
     ]
    }
   ],
   "source": [
    "class Dog:\n",
    "    \n",
    "    def bark(self):\n",
    "        print(\"bark\")\n",
    "        \n",
    "    def add_one(self,x):\n",
    "        return x+1\n",
    "        \n",
    "        \n",
    "d = Dog() # d is instance of Dog class...\n",
    "d.bark # calling the \"method\" of Class \"Dog\" using the \"instance\"(d) of class.\n",
    "print(type(d)) # \"d\" belongs to module (main) of class Dog, which is also object(main) of class DOg.\n",
    "\n",
    "\n",
    "\n",
    "print(d.add_one(5))"
   ]
  },
  {
   "cell_type": "code",
   "execution_count": 8,
   "metadata": {},
   "outputs": [
    {
     "name": "stdout",
     "output_type": "stream",
     "text": [
      "Tim\n",
      "\n",
      "Bill\n",
      "20\n",
      "\n",
      "23\n",
      "\n"
     ]
    }
   ],
   "source": [
    "class Dog:\n",
    "    \n",
    "    def __init__(self,name,age):\n",
    "        \n",
    "        '''This is initate method which will execute \n",
    "        whenever you create instance of class Dog, \n",
    "        like \"d\" and \"d2\" below\n",
    "        '''\n",
    "        self.name = name \n",
    "        self.age = age\n",
    "        \n",
    "    def get_name(self):\n",
    "        return self.name\n",
    "    \n",
    "    def get_age(self):\n",
    "        return self.age\n",
    "    \n",
    "    def set_age(self, age):\n",
    "        self.age = age\n",
    "    \n",
    "    \n",
    "    \n",
    "d = Dog(\"Tim\",26) # creating instance of Dog class will first call __init__ method\n",
    "print(d.get_name(), end= \"\\n\\n\") # d.get_name will call the \"get_name\" method, but with particularly with \"d\"\n",
    "\n",
    "\n",
    "\n",
    "d2 = Dog(\"Bill\",20)\n",
    "print(d2.get_name())\n",
    "print(d2.get_age(), end= \"\\n\\n\" )\n",
    "\n",
    "\n",
    "\n",
    "\n",
    "d2.set_age(23)\n",
    "print(d2.get_age(), end= \"\\n\\n\")"
   ]
  },
  {
   "cell_type": "markdown",
   "metadata": {},
   "source": [
    "Now you can call these functions  get_name(), get_age(), set_age() of class Dog as many times using many different instances like \"d\", \"d2\""
   ]
  },
  {
   "cell_type": "markdown",
   "metadata": {},
   "source": [
    "**Why we use the above OOP approach?**\n",
    "\n",
    "- Because using this we can create as many fetaures of Dog class as i want.\n",
    "- Secondly i can call as many times as i want directly from the methods of Dog class.\n",
    "    "
   ]
  },
  {
   "cell_type": "markdown",
   "metadata": {},
   "source": [
    "# classes and objects"
   ]
  },
  {
   "cell_type": "code",
   "execution_count": 21,
   "metadata": {},
   "outputs": [
    {
     "name": "stdout",
     "output_type": "stream",
     "text": [
      "95\n",
      "\n",
      "\n",
      "85.0\n",
      "\n",
      "\n"
     ]
    },
    {
     "data": {
      "text/plain": [
       "False"
      ]
     },
     "execution_count": 21,
     "metadata": {},
     "output_type": "execute_result"
    }
   ],
   "source": [
    "class Students:\n",
    "    \n",
    "    def __init__(self,name,age,grade):\n",
    "        self.name = name\n",
    "        self.age = age\n",
    "        self.grade = grade # 0 - 100\n",
    "        \n",
    "    def get_grade(self):\n",
    "        return self.grade\n",
    "    \n",
    "\n",
    "    \n",
    "\n",
    "class Course:\n",
    "    \n",
    "    def __init__(self, name, max_students):\n",
    "        self.name = name \n",
    "        self.max_students = max_students\n",
    "        self.students = []\n",
    "        \n",
    "    def add_student(self, student):\n",
    "        if len(self.students) < self.max_students:\n",
    "            self.students.append(student)\n",
    "            return True\n",
    "        return False\n",
    "    \n",
    "    def get_average_grade(self):\n",
    "        value=0\n",
    "        for student in self.students:\n",
    "            value += student.get_grade()\n",
    "        \n",
    "        return value/len(self.students)\n",
    "    \n",
    "    \n",
    "    \n",
    "s1 = Students(\"Tim\",19,95)\n",
    "s2 = Students(\"Bill\",19,75)\n",
    "s3 = Students(\"Jill\",19,65)\n",
    "print(s1.get_grade(), end= \"\\n\\n\\n\")\n",
    "\n",
    "\n",
    "course = Course(\"Science\",2)\n",
    "course.add_student(s1)\n",
    "course.add_student(s2)\n",
    "print(course.get_average_grade(), end= \"\\n\\n\\n\")\n",
    "\n",
    "\n",
    "\n",
    "course.add_student(s3) # throws false, beacuse the max_student=2 and we have condition of admission in \"course\" class that it should be equal to max_students. "
   ]
  },
  {
   "cell_type": "markdown",
   "metadata": {},
   "source": [
    "# Inhertance"
   ]
  },
  {
   "cell_type": "code",
   "execution_count": 1,
   "metadata": {},
   "outputs": [
    {
     "data": {
      "image/png": "[encoded data removed]",
      "text/plain": [
       "<IPython.core.display.Image object>"
      ]
     },
     "execution_count": 1,
     "metadata": {},
     "output_type": "execute_result"
    }
   ],
   "source": [
    "from IPython.display import Image\n",
    "Image(filename='Images/Inheritance_.png')\n",
    "# source - https://media.geeksforgeeks.org/wp-content/uploads/4-104.png"
   ]
  },
  {
   "cell_type": "markdown",
   "metadata": {},
   "source": [
    "## Hierarchical Inheritance \n",
    "\n",
    "- One(Parent) to many (children) "
   ]
  },
  {
   "cell_type": "code",
   "execution_count": 11,
   "metadata": {},
   "outputs": [],
   "source": [
    "class pet:\n",
    "    def __init__(self, name, age):\n",
    "        self.name = name\n",
    "        self.age = age\n",
    "    \n",
    "    def show(self):\n",
    "        print(f\"I am {self.name} and I am {self.age} years old\")\n",
    "        \n",
    "    def speak(self):\n",
    "        print(\"I don't know what to say\")\n",
    "        \n",
    "# \"Cat class\" inherits the property of \"Pet class\"        \n",
    "class Cat(pet): \n",
    "    def speak(self):\n",
    "        print(\"Meow\")\n",
    "        \n",
    "# \"Dog class\" inherits the property of \"Pet class\"        \n",
    "class Dog(pet): \n",
    "    def speak(self):\n",
    "        print(\"Bark\")"
   ]
  },
  {
   "cell_type": "code",
   "execution_count": 12,
   "metadata": {},
   "outputs": [
    {
     "name": "stdout",
     "output_type": "stream",
     "text": [
      "I am Tim and I am 19 years old\n"
     ]
    }
   ],
   "source": [
    "p = pet(\"Tim\", 19)\n",
    "p.show()"
   ]
  },
  {
   "cell_type": "code",
   "execution_count": 13,
   "metadata": {},
   "outputs": [
    {
     "name": "stdout",
     "output_type": "stream",
     "text": [
      "I am Bill and I am 34 years old\n"
     ]
    }
   ],
   "source": [
    "# \"Cat class\" inherits the __init__ function and show() function from \"Pet class\"\n",
    "\n",
    "c = Cat(\"Bill\", 34)\n",
    "c.show()"
   ]
  },
  {
   "cell_type": "code",
   "execution_count": 14,
   "metadata": {},
   "outputs": [
    {
     "name": "stdout",
     "output_type": "stream",
     "text": [
      "I am Jill and I am 25 years old\n"
     ]
    }
   ],
   "source": [
    "# same as above \"Dog class\" inherits the __init__ function and show() function from \"Pet class\"\n",
    "\n",
    "d = Dog(\"Jill\", 25)\n",
    "d.show()"
   ]
  },
  {
   "cell_type": "code",
   "execution_count": 15,
   "metadata": {},
   "outputs": [
    {
     "name": "stdout",
     "output_type": "stream",
     "text": [
      "Meow\n",
      "Bark\n",
      "I don't know what to say\n"
     ]
    }
   ],
   "source": [
    "# if we call speak() function which is defines in parent class(Pet) as well as child class(Cat) -\n",
    "# The speak() function from child class (cat) will get executed.\n",
    "\n",
    "c.speak()\n",
    "\n",
    "\n",
    "# and same will happen in \"Dog class\"\n",
    "d.speak()\n",
    "\n",
    "\n",
    "# and if we call speak from parent class (Pet) instance, it will call the parent class function only\n",
    "p.speak()"
   ]
  },
  {
   "cell_type": "markdown",
   "metadata": {},
   "source": [
    "### Calling Super() class"
   ]
  },
  {
   "cell_type": "markdown",
   "metadata": {},
   "source": [
    "- **Def:** The super() function is used to give access to methods and properties of a parent or sibling class.\n",
    "\n",
    "- **Use:** The super() function returns an object that represents the parent class."
   ]
  },
  {
   "cell_type": "code",
   "execution_count": 17,
   "metadata": {},
   "outputs": [
    {
     "name": "stdout",
     "output_type": "stream",
     "text": [
      "I am Billi and I am 20 years old and I am Brown\n"
     ]
    }
   ],
   "source": [
    "# if you want to intialize the Cat class with additional fetaure as colour. \n",
    "# you can define the __init_ function in \"Cat class\" only where it initalizing - \"name and age\" features from \"pet class\" \n",
    "# using Super() function and \"color\" feature will be defined in the \"cat class\" __init__ function.\n",
    "\n",
    "class pet:\n",
    "    def __init__(self, name, age):\n",
    "        self.name = name\n",
    "        self.age = age\n",
    "    \n",
    "    def show(self):\n",
    "        print(f\"I am {self.name} and I am {self.age} years old\")\n",
    "        \n",
    "    def speak(self):\n",
    "        print(\"I don't know what to say\")\n",
    "        \n",
    "# \"Cat class\" inherits the property of \"Pet class\"        \n",
    "class Cat(pet):\n",
    "    \n",
    "    def __init__(self, name , age, color):\n",
    "        \n",
    "        # here super()  is intializing \"name & age\" fetaure from \"Pet class\"\n",
    "        super().__init__(name,age)\n",
    "        \n",
    "        # \"color\" feature get intialized in the same \"cat class\" here only.\n",
    "        self.color = color\n",
    "        \n",
    "    def speak(self):\n",
    "        print(\"Meow\")\n",
    "        \n",
    "        \n",
    "    def show(self):\n",
    "        print(f\"I am {self.name} and I am {self.age} years old and I am {self.color}\")\n",
    "        \n",
    "        \n",
    "        \n",
    "c1 = Cat(\"Billi\", 20, \"Brown\")\n",
    "c1.show()"
   ]
  },
  {
   "cell_type": "code",
   "execution_count": null,
   "metadata": {},
   "outputs": [],
   "source": []
  },
  {
   "cell_type": "markdown",
   "metadata": {},
   "source": [
    "# Class Attributes, classmethod() & staticmethod()\n",
    "\n",
    "- https://www.geeksforgeeks.org/class-method-vs-static-method-python/\n",
    "- Also you can refer **\"Python Tricks Book\" by Dab Bader** \n"
   ]
  },
  {
   "cell_type": "markdown",
   "metadata": {},
   "source": [
    "## Class Attributes"
   ]
  },
  {
   "cell_type": "code",
   "execution_count": 24,
   "metadata": {},
   "outputs": [
    {
     "name": "stdout",
     "output_type": "stream",
     "text": [
      "8\n",
      "8\n"
     ]
    }
   ],
   "source": [
    "class person:\n",
    "    \n",
    "    number_of_people = 0 # static/same attribute of \"person class\"\n",
    "    \n",
    "    def __init__(self, name):\n",
    "        self.name = name  # Variable attribute of the \"person class\"\n",
    "        \n",
    "p1 = person (\"tim\")\n",
    "p2 = person(\"jill\")\n",
    "\n",
    "\n",
    "# You can directly access the number_of_people insead of intialling at creation of object instance.\n",
    "person.number_of_people = 8 \n",
    "\n",
    "# Now because number_of_people is set to \"8\". If you create instance of object and call number_of_people , it will ouput value \"8\"\n",
    "print(p1.number_of_people)\n",
    "print(p2.number_of_people)"
   ]
  },
  {
   "cell_type": "code",
   "execution_count": 25,
   "metadata": {},
   "outputs": [
    {
     "name": "stdout",
     "output_type": "stream",
     "text": [
      "1\n",
      "2\n"
     ]
    }
   ],
   "source": [
    "# you can increment static attribute as well by defining it in init()..\n",
    "\n",
    "\n",
    "class person:\n",
    "    \n",
    "    number_of_people = 0 # static/same attribute of \"person class\"\n",
    "    \n",
    "    def __init__(self, name):\n",
    "        self.name = name\n",
    "        person.number_of_people += 1 # here we are calling the number_of_people\" attribute directly from \"person class name\". Now the attribute will get incremented every time you create new instance of object.\n",
    "        \n",
    "        \n",
    "p1 = person (\"tim\")\n",
    "print(person.number_of_people)\n",
    "p2 = person(\"jill\")\n",
    "print(person.number_of_people)"
   ]
  },
  {
   "cell_type": "markdown",
   "metadata": {},
   "source": [
    "## classmethod()\n",
    "\n",
    "- we use **@classmethod** decorator to define class method.\n",
    "- A class method is a **method which is bound to the class and not the object of the class.**\n",
    "- The @classmethod decorator, is a builtin function decorator that is an expression that gets evaluated after your function is defined.\n",
    "- A class method can access or modify class state while a static method can’t access or modify it.\n",
    "- A class method takes **cls** as first parameter while a static method needs no specific parameters. Here the **cls** parameter points to the class instead of **self** parameter points to object instance.\n",
    "- SInce the classmethod has access to **cls** argument, it can't modify object instance state. However **cls** can modify class sate that applies across all instance of the class."
   ]
  },
  {
   "cell_type": "code",
   "execution_count": 36,
   "metadata": {},
   "outputs": [
    {
     "name": "stdout",
     "output_type": "stream",
     "text": [
      "2\n"
     ]
    }
   ],
   "source": [
    "class person:\n",
    "    \n",
    "    number_of_people = 0\n",
    "    \n",
    "    def __init__(self, name):\n",
    "        self.name = name\n",
    "        person.add_person() # this is calling \"class method\" called \"add_person\" which will add the person count every time we call the \"person\" class.\n",
    "        \n",
    "    \n",
    "    # Here we are not using \"self\", beacuse \"@classmethod\" not depends on instance of class rather it depends on class directly and hence passing \"cls\". \n",
    "    @classmethod\n",
    "    def count_of_people(cls): \n",
    "        return cls.number_of_people\n",
    "    \n",
    "    \n",
    "    # This \"@classmethod\" increment the number of people which is directly class depended and not class object depended.\n",
    "    @classmethod\n",
    "    def add_person(cls):\n",
    "        cls.number_of_people += 1\n",
    "    \n",
    "    \n",
    "p1 = person(\"tim\")\n",
    "p2 = person(\"bill\")\n",
    "print(person.count_of_people())"
   ]
  },
  {
   "cell_type": "markdown",
   "metadata": {},
   "source": [
    "## staticmethod()\n",
    "\n",
    "- we use @staticmethod decorator to define static method.\n",
    "- Static methods know nothing about class state. They are utility(help describing) type methods that take some parameters and work upon those parameters. On the other hand class methods must have class as parameter."
   ]
  },
  {
   "cell_type": "code",
   "execution_count": 28,
   "metadata": {},
   "outputs": [
    {
     "name": "stdout",
     "output_type": "stream",
     "text": [
      "7\n",
      "run\n"
     ]
    }
   ],
   "source": [
    "class Math:\n",
    "    \n",
    "    \n",
    "    @staticmethod\n",
    "    def add5(x):\n",
    "        return x+5\n",
    "    \n",
    "    \n",
    "    @staticmethod\n",
    "    def pr():\n",
    "        print(\"run\")\n",
    "        \n",
    "print(Math.add5(2))\n",
    "Math.pr()"
   ]
  },
  {
   "cell_type": "markdown",
   "metadata": {},
   "source": []
  },
  {
   "cell_type": "code",
   "execution_count": null,
   "metadata": {},
   "outputs": [],
   "source": []
  },
  {
   "cell_type": "markdown",
   "metadata": {},
   "source": [
    "# OOPs Design"
   ]
  },
  {
   "cell_type": "code",
   "execution_count": null,
   "metadata": {},
   "outputs": [],
   "source": []
  }
 ],
 "metadata": {
  "kernelspec": {
   "display_name": "Python 3",
   "language": "python",
   "name": "python3"
  },
  "language_info": {
   "codemirror_mode": {
    "name": "ipython",
    "version": 3
   },
   "file_extension": ".py",
   "mimetype": "text/x-python",
   "name": "python",
   "nbconvert_exporter": "python",
   "pygments_lexer": "ipython3",
   "version": "3.7.4"
  }
 },
 "nbformat": 4,
 "nbformat_minor": 2
}
